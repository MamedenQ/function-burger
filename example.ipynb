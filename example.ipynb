{
  "nbformat": 4,
  "nbformat_minor": 0,
  "metadata": {
    "colab": {
      "name": "example.ipynb",
      "provenance": [],
      "authorship_tag": "ABX9TyMvofsXzbE2Y3gkbpwr+pSA",
      "include_colab_link": true
    },
    "kernelspec": {
      "name": "python3",
      "display_name": "Python 3"
    },
    "language_info": {
      "name": "python"
    }
  },
  "cells": [
    {
      "cell_type": "markdown",
      "metadata": {
        "id": "view-in-github",
        "colab_type": "text"
      },
      "source": [
        "<a href=\"https://colab.research.google.com/github/MamedenQ/function-burger/blob/master/example.ipynb\" target=\"_parent\"><img src=\"https://colab.research.google.com/assets/colab-badge.svg\" alt=\"Open In Colab\"/></a>"
      ]
    },
    {
      "cell_type": "markdown",
      "source": [
        "# Installation"
      ],
      "metadata": {
        "id": "xUcA8cu8G58F"
      }
    },
    {
      "cell_type": "code",
      "execution_count": 1,
      "metadata": {
        "colab": {
          "base_uri": "https://localhost:8080/"
        },
        "id": "VkHPU49cF-CD",
        "outputId": "62a77fb3-09da-4323-a484-84e5b2b446e8"
      },
      "outputs": [
        {
          "output_type": "stream",
          "name": "stdout",
          "text": [
            "Looking in indexes: https://pypi.org/simple, https://us-python.pkg.dev/colab-wheels/public/simple/\n",
            "Collecting function-burger\n",
            "  Downloading function_burger-1.0.1-py3-none-any.whl (6.2 kB)\n",
            "Installing collected packages: function-burger\n",
            "Successfully installed function-burger-1.0.1\n"
          ]
        }
      ],
      "source": [
        "!pip install function-burger"
      ]
    },
    {
      "cell_type": "markdown",
      "source": [
        "# Usage"
      ],
      "metadata": {
        "id": "Qa5_52bUG9So"
      }
    },
    {
      "cell_type": "markdown",
      "source": [
        "## burger"
      ],
      "metadata": {
        "id": "4B5fTNahHEnF"
      }
    },
    {
      "cell_type": "code",
      "source": [
        "from function_burger import burger_log\n",
        "\n",
        "@burger_log()\n",
        "def example_func(input_str):\n",
        "    print(f\"input_str[{input_str}]\")\n",
        "\n",
        "example_func(\"example!!\")"
      ],
      "metadata": {
        "colab": {
          "base_uri": "https://localhost:8080/"
        },
        "id": "WsGSAPTfGGGZ",
        "outputId": "08bd6732-ca3b-40ad-b81f-2990787be27f"
      },
      "execution_count": 2,
      "outputs": [
        {
          "output_type": "stream",
          "name": "stdout",
          "text": [
            "[INFO] 2022-08-27 12:03:40.277926\n",
            "input_str[example!!]\n",
            "[INFO] 2022-08-27 12:03:40.278120\n"
          ]
        }
      ]
    },
    {
      "cell_type": "markdown",
      "source": [
        "## top"
      ],
      "metadata": {
        "id": "Bndal1JTHGj0"
      }
    },
    {
      "cell_type": "code",
      "source": [
        "from function_burger import top_log\n",
        "\n",
        "@top_log()\n",
        "def example_func(input_str):\n",
        "    print(f\"input_str[{input_str}]\")\n",
        "\n",
        "example_func(\"example!!\")"
      ],
      "metadata": {
        "colab": {
          "base_uri": "https://localhost:8080/"
        },
        "id": "18_z4zotGSA0",
        "outputId": "c42f8fb9-33ba-4754-d60c-2e716191a861"
      },
      "execution_count": 3,
      "outputs": [
        {
          "output_type": "stream",
          "name": "stdout",
          "text": [
            "[INFO] 2022-08-27 12:03:40.287366\n",
            "input_str[example!!]\n"
          ]
        }
      ]
    },
    {
      "cell_type": "markdown",
      "source": [
        "## bottom"
      ],
      "metadata": {
        "id": "-liVQuY2HHs-"
      }
    },
    {
      "cell_type": "code",
      "source": [
        "from function_burger import bottom_log\n",
        "\n",
        "@bottom_log()\n",
        "def example_func(input_str):\n",
        "    print(f\"input_str[{input_str}]\")\n",
        "\n",
        "example_func(\"example!!\")"
      ],
      "metadata": {
        "colab": {
          "base_uri": "https://localhost:8080/"
        },
        "id": "pVUTKXubG1Wn",
        "outputId": "e03e93a1-6b66-49e0-bdca-0a795e873f0f"
      },
      "execution_count": 4,
      "outputs": [
        {
          "output_type": "stream",
          "name": "stdout",
          "text": [
            "input_str[example!!]\n",
            "[INFO] 2022-08-27 12:03:40.300075\n"
          ]
        }
      ]
    },
    {
      "cell_type": "markdown",
      "source": [
        "# Options"
      ],
      "metadata": {
        "id": "7bzThPwKHMxM"
      }
    },
    {
      "cell_type": "markdown",
      "source": [
        "## level"
      ],
      "metadata": {
        "id": "4kcMtI1KHQTy"
      }
    },
    {
      "cell_type": "code",
      "source": [
        "from function_burger import top_log, LogLevel\n",
        "\n",
        "@top_log(level=LogLevel.INFO)\n",
        "def example_info():\n",
        "    pass\n",
        "\n",
        "@top_log(level=LogLevel.WARN)\n",
        "def example_warn():\n",
        "    pass\n",
        "\n",
        "@top_log(level=LogLevel.ERROR)\n",
        "def example_error():\n",
        "    pass\n",
        "\n",
        "@top_log(level=LogLevel.VERBOSE)\n",
        "def example_verb():\n",
        "    pass\n",
        "\n",
        "example_info()\n",
        "example_warn()\n",
        "example_error()\n",
        "example_verb()"
      ],
      "metadata": {
        "colab": {
          "base_uri": "https://localhost:8080/"
        },
        "id": "wFSnQ3qcHNun",
        "outputId": "ec48f630-ca34-4203-cf1e-d56459412800"
      },
      "execution_count": 5,
      "outputs": [
        {
          "output_type": "stream",
          "name": "stdout",
          "text": [
            "[INFO] 2022-08-27 12:03:40.315605\n",
            "\u001b[33m[WARN]\u001b[0m 2022-08-27 12:03:40.315856\n",
            "\u001b[31m[ERROR]\u001b[0m 2022-08-27 12:03:40.316316\n",
            "\u001b[35m[VERBOSE]\u001b[0m 2022-08-27 12:03:40.317386\n"
          ]
        }
      ]
    },
    {
      "cell_type": "markdown",
      "source": [
        "## timestamp"
      ],
      "metadata": {
        "id": "iZxKMpvUIHbl"
      }
    },
    {
      "cell_type": "code",
      "source": [
        "from function_burger import top_log\n",
        "\n",
        "@top_log()\n",
        "def example1():\n",
        "    pass\n",
        "\n",
        "@top_log(timestamp=False)\n",
        "def example2():\n",
        "    pass\n",
        "\n",
        "example1()\n",
        "example2()"
      ],
      "metadata": {
        "colab": {
          "base_uri": "https://localhost:8080/"
        },
        "id": "LQIt_6kJIIb4",
        "outputId": "7b4d933e-2273-4fe6-94a2-fbbb8f6485e9"
      },
      "execution_count": 6,
      "outputs": [
        {
          "output_type": "stream",
          "name": "stdout",
          "text": [
            "[INFO] 2022-08-27 12:03:40.331166\n",
            "[INFO]\n"
          ]
        }
      ]
    },
    {
      "cell_type": "markdown",
      "source": [
        "## elapsed_time"
      ],
      "metadata": {
        "id": "q_rJX7kAIboD"
      }
    },
    {
      "cell_type": "code",
      "source": [
        "from function_burger import bottom_log\n",
        "\n",
        "@bottom_log(elapsed_time=True)\n",
        "def example():\n",
        "    pass\n",
        "\n",
        "example()"
      ],
      "metadata": {
        "colab": {
          "base_uri": "https://localhost:8080/"
        },
        "id": "tFnQIkZwIanl",
        "outputId": "78e9b7eb-8a55-453c-c92f-06d74b6676ea"
      },
      "execution_count": 7,
      "outputs": [
        {
          "output_type": "stream",
          "name": "stdout",
          "text": [
            "[INFO] 2022-08-27 12:03:40.341610 elapsed time[0:00:00.000005]\n"
          ]
        }
      ]
    },
    {
      "cell_type": "markdown",
      "source": [
        "## fname"
      ],
      "metadata": {
        "id": "J6pI_13iIqVe"
      }
    },
    {
      "cell_type": "code",
      "source": [
        "from function_burger import top_log\n",
        "\n",
        "@top_log(fname=True)\n",
        "def example():\n",
        "    pass\n",
        "\n",
        "example()"
      ],
      "metadata": {
        "colab": {
          "base_uri": "https://localhost:8080/"
        },
        "id": "OcGAx4_KIrtf",
        "outputId": "673188dc-1a8a-40d9-8f33-f09b745cbde8"
      },
      "execution_count": 8,
      "outputs": [
        {
          "output_type": "stream",
          "name": "stdout",
          "text": [
            "[INFO] 2022-08-27 12:03:40.352102 func[example]\n"
          ]
        }
      ]
    },
    {
      "cell_type": "markdown",
      "source": [
        "## tid"
      ],
      "metadata": {
        "id": "GBBz1Q3ZIwxK"
      }
    },
    {
      "cell_type": "code",
      "source": [
        "from function_burger import top_log\n",
        "import threading as th\n",
        "\n",
        "@top_log(tid=True)\n",
        "def example():\n",
        "    pass\n",
        "\n",
        "example()\n",
        "\n",
        "t = th.Thread(target=example)\n",
        "t.start()"
      ],
      "metadata": {
        "colab": {
          "base_uri": "https://localhost:8080/"
        },
        "id": "6RW40f2LIygX",
        "outputId": "c4150752-9ba1-4004-bf69-728643b40b18"
      },
      "execution_count": 9,
      "outputs": [
        {
          "output_type": "stream",
          "name": "stdout",
          "text": [
            "[INFO] 2022-08-27 12:03:40.364148 [140153576986496]\n",
            "[INFO] 2022-08-27 12:03:40.364521 [140153205040896]\n"
          ]
        }
      ]
    },
    {
      "cell_type": "markdown",
      "source": [
        "## inputval"
      ],
      "metadata": {
        "id": "VWOQoG44Jgcz"
      }
    },
    {
      "cell_type": "code",
      "source": [
        "from function_burger import burger_log\n",
        "\n",
        "@burger_log(inputval=True)\n",
        "def example(a: int, b: int, *, c: int, d: int):\n",
        "    pass\n",
        "\n",
        "example(1, 2, c=3, d=4)"
      ],
      "metadata": {
        "colab": {
          "base_uri": "https://localhost:8080/"
        },
        "id": "FkoKKOFeJhte",
        "outputId": "74fd0b3a-b8bd-4c69-f38d-381da5808725"
      },
      "execution_count": 10,
      "outputs": [
        {
          "output_type": "stream",
          "name": "stdout",
          "text": [
            "[INFO] 2022-08-27 12:03:40.377962 args[(1, 2)] keywords[{'c': 3, 'd': 4}]\n",
            "[INFO] 2022-08-27 12:03:40.378030\n"
          ]
        }
      ]
    },
    {
      "cell_type": "markdown",
      "source": [
        "## inputval_func"
      ],
      "metadata": {
        "id": "J-OMhnafJyuM"
      }
    },
    {
      "cell_type": "code",
      "source": [
        "from function_burger import burger_log\n",
        "\n",
        "class ExampleCls:\n",
        "    def __init__(self):\n",
        "        self.num = 0\n",
        "    def inc_num(self):\n",
        "        self.num += 1\n",
        "    def get_num(self):\n",
        "        return self.num\n",
        "\n",
        "@burger_log(\n",
        "    inputval=True, inputval_func=lambda *a, **k: f\"num[{a[0].get_num()}]\"\n",
        ")\n",
        "def increment_num(cls):\n",
        "    cls.inc_num()\n",
        "\n",
        "cls = ExampleCls()\n",
        "cls.inc_num()\n",
        "cls.inc_num()\n",
        "\n",
        "increment_num(cls)"
      ],
      "metadata": {
        "colab": {
          "base_uri": "https://localhost:8080/"
        },
        "id": "mzvDulxhJzr9",
        "outputId": "4255c1ae-ed2f-49ba-a779-fb79aad92a0b"
      },
      "execution_count": 11,
      "outputs": [
        {
          "output_type": "stream",
          "name": "stdout",
          "text": [
            "[INFO] 2022-08-27 12:03:40.392632 args[num[2]]\n",
            "[INFO] 2022-08-27 12:03:40.392710\n"
          ]
        }
      ]
    },
    {
      "cell_type": "markdown",
      "source": [
        "## retval"
      ],
      "metadata": {
        "id": "-c1bDMSiKBDj"
      }
    },
    {
      "cell_type": "code",
      "source": [
        "from function_burger import burger_log\n",
        "\n",
        "@burger_log(retval=True)\n",
        "def example():\n",
        "    return \"ret_val\"\n",
        "\n",
        "ret = example()"
      ],
      "metadata": {
        "colab": {
          "base_uri": "https://localhost:8080/"
        },
        "id": "yxhIn2g8KGQF",
        "outputId": "bfe0039f-2964-497f-9a02-7885cd89b160"
      },
      "execution_count": 12,
      "outputs": [
        {
          "output_type": "stream",
          "name": "stdout",
          "text": [
            "[INFO] 2022-08-27 12:03:40.406855\n",
            "[INFO] 2022-08-27 12:03:40.406952 ret[ret_val]\n"
          ]
        }
      ]
    },
    {
      "cell_type": "markdown",
      "source": [
        "## retval_func"
      ],
      "metadata": {
        "id": "GEsT1R46KT7Q"
      }
    },
    {
      "cell_type": "code",
      "source": [
        "from function_burger import burger_log\n",
        "\n",
        "class ExampleCls:\n",
        "    def __init__(self):\n",
        "        self.num = 0\n",
        "    def inc_num(self):\n",
        "        self.num += 1\n",
        "    def get_num(self):\n",
        "        return self.num\n",
        "\n",
        "@burger_log(retval=True, retval_func=lambda a: f\"num[{a.get_num()}]\")\n",
        "def get_example():\n",
        "    return ExampleCls()\n",
        "\n",
        "cls = get_example()"
      ],
      "metadata": {
        "colab": {
          "base_uri": "https://localhost:8080/"
        },
        "id": "qscWztIfKTkn",
        "outputId": "e00a3637-ea1a-4231-ed23-54f8dac95585"
      },
      "execution_count": 13,
      "outputs": [
        {
          "output_type": "stream",
          "name": "stdout",
          "text": [
            "[INFO] 2022-08-27 12:03:40.420025\n",
            "[INFO] 2022-08-27 12:03:40.420122 ret[num[0]]\n"
          ]
        }
      ]
    },
    {
      "cell_type": "markdown",
      "source": [
        "## top_word"
      ],
      "metadata": {
        "id": "KSYgDSR-KaLO"
      }
    },
    {
      "cell_type": "code",
      "source": [
        "from function_burger import burger_log, top_log\n",
        "\n",
        "@burger_log(top_word=\"start\", fname=True)\n",
        "def example1():\n",
        "    pass\n",
        "\n",
        "@top_log(word=\"start\", fname=True)\n",
        "def example2():\n",
        "    pass\n",
        "\n",
        "example1()\n",
        "example2()"
      ],
      "metadata": {
        "colab": {
          "base_uri": "https://localhost:8080/"
        },
        "id": "3wqlwk7jKbGm",
        "outputId": "78b08e96-1c88-42f0-9fb9-76c4c3355d49"
      },
      "execution_count": 14,
      "outputs": [
        {
          "output_type": "stream",
          "name": "stdout",
          "text": [
            "[INFO] 2022-08-27 12:03:40.432854 func[example1] start\n",
            "[INFO] 2022-08-27 12:03:40.432950 func[example1]\n",
            "[INFO] 2022-08-27 12:03:40.433045 func[example2] start\n"
          ]
        }
      ]
    },
    {
      "cell_type": "markdown",
      "source": [
        "## bottom_word"
      ],
      "metadata": {
        "id": "GAxxvrorKv3b"
      }
    },
    {
      "cell_type": "code",
      "source": [
        "from function_burger import burger_log, bottom_log\n",
        "\n",
        "@burger_log(bottom_word=\"end\", fname=True)\n",
        "def example1():\n",
        "    pass\n",
        "\n",
        "@bottom_log(word=\"end\", fname=True)\n",
        "def example2():\n",
        "    pass\n",
        "\n",
        "example1()\n",
        "example2()"
      ],
      "metadata": {
        "colab": {
          "base_uri": "https://localhost:8080/"
        },
        "id": "Zq20Q2-7KxuM",
        "outputId": "1cbd7ae6-b8f2-4634-95d4-3a111c4f3d3b"
      },
      "execution_count": 15,
      "outputs": [
        {
          "output_type": "stream",
          "name": "stdout",
          "text": [
            "[INFO] 2022-08-27 12:03:40.444376 func[example1]\n",
            "[INFO] 2022-08-27 12:03:40.444436 func[example1] end\n",
            "[INFO] 2022-08-27 12:03:40.444510 func[example2] end\n"
          ]
        }
      ]
    },
    {
      "cell_type": "markdown",
      "source": [
        "## color"
      ],
      "metadata": {
        "id": "TZoA8ZRNK4OQ"
      }
    },
    {
      "cell_type": "code",
      "source": [
        "from function_burger import top_log, LogColor\n",
        "\n",
        "@top_log(color=LogColor.VANILLA_SHAKE)\n",
        "def example_vanilla():\n",
        "    pass\n",
        "\n",
        "@top_log(color=LogColor.MUSTARD)\n",
        "def example_mustard():\n",
        "    pass\n",
        "\n",
        "@top_log(color=LogColor.KETCHUP)\n",
        "def example_ketchup():\n",
        "    pass\n",
        "\n",
        "@top_log(color=LogColor.MINT_CHOCOLATE)\n",
        "def example_mint_chocolate():\n",
        "    pass\n",
        "\n",
        "@top_log(color=LogColor.SODA)\n",
        "def example_soda():\n",
        "    pass\n",
        "\n",
        "@top_log(color=LogColor.LETTUCE)\n",
        "def example_lettuce():\n",
        "    pass\n",
        "\n",
        "@top_log(color=LogColor.GRAPE_JUICE)\n",
        "def example_grape_juice():\n",
        "    pass\n",
        "\n",
        "@top_log(color=LogColor.COLA)\n",
        "def example_cola():\n",
        "    pass\n",
        "\n",
        "example_vanilla()\n",
        "example_mustard()\n",
        "example_ketchup()\n",
        "example_mint_chocolate()\n",
        "example_soda()\n",
        "example_lettuce()\n",
        "example_grape_juice()\n",
        "example_cola()"
      ],
      "metadata": {
        "colab": {
          "base_uri": "https://localhost:8080/"
        },
        "id": "rspnVSb1K5Gf",
        "outputId": "30e4d2e4-2f39-48ce-9644-77bcf1c58fdb"
      },
      "execution_count": 16,
      "outputs": [
        {
          "output_type": "stream",
          "name": "stdout",
          "text": [
            "[INFO] 2022-08-27 12:03:40.461723\n",
            "[INFO]\u001b[33m 2022-08-27 12:03:40.461880\u001b[0m\n",
            "[INFO]\u001b[31m 2022-08-27 12:03:40.461995\u001b[0m\n",
            "[INFO]\u001b[36m 2022-08-27 12:03:40.466213\u001b[0m\n",
            "[INFO]\u001b[34m 2022-08-27 12:03:40.466370\u001b[0m\n",
            "[INFO]\u001b[32m 2022-08-27 12:03:40.466465\u001b[0m\n",
            "[INFO]\u001b[35m 2022-08-27 12:03:40.466566\u001b[0m\n",
            "[INFO]\u001b[30m 2022-08-27 12:03:40.466663\u001b[0m\n"
          ]
        }
      ]
    },
    {
      "cell_type": "markdown",
      "source": [
        "# when an exception occurs"
      ],
      "metadata": {
        "id": "h4XYURjqLsHm"
      }
    },
    {
      "cell_type": "code",
      "source": [
        "from function_burger import burger_log\n",
        "\n",
        "@burger_log()\n",
        "def example():\n",
        "    raise Exception(\"An exception occurred.\")\n",
        "\n",
        "example()"
      ],
      "metadata": {
        "colab": {
          "base_uri": "https://localhost:8080/",
          "height": 385
        },
        "id": "yDgTnH44Lt_X",
        "outputId": "2a17f196-a78f-44f0-bfa3-b311ae66f63e"
      },
      "execution_count": 17,
      "outputs": [
        {
          "output_type": "stream",
          "name": "stdout",
          "text": [
            "[INFO] 2022-08-27 12:03:40.476505\n",
            "[INFO] 2022-08-27 12:03:40.476579 \u001b[7m\u001b[31mexcept[An exception occurred.]\u001b[0m\n"
          ]
        },
        {
          "output_type": "error",
          "ename": "Exception",
          "evalue": "ignored",
          "traceback": [
            "\u001b[0;31m---------------------------------------------------------------------------\u001b[0m",
            "\u001b[0;31mException\u001b[0m                                 Traceback (most recent call last)",
            "\u001b[0;32m<ipython-input-17-07bf1abb8ff3>\u001b[0m in \u001b[0;36m<module>\u001b[0;34m\u001b[0m\n\u001b[1;32m      5\u001b[0m     \u001b[0;32mraise\u001b[0m \u001b[0mException\u001b[0m\u001b[0;34m(\u001b[0m\u001b[0;34m\"An exception occurred.\"\u001b[0m\u001b[0;34m)\u001b[0m\u001b[0;34m\u001b[0m\u001b[0;34m\u001b[0m\u001b[0m\n\u001b[1;32m      6\u001b[0m \u001b[0;34m\u001b[0m\u001b[0m\n\u001b[0;32m----> 7\u001b[0;31m \u001b[0mexample\u001b[0m\u001b[0;34m(\u001b[0m\u001b[0;34m)\u001b[0m\u001b[0;34m\u001b[0m\u001b[0;34m\u001b[0m\u001b[0m\n\u001b[0m",
            "\u001b[0;32m/usr/local/lib/python3.7/dist-packages/function_burger/function_burger.py\u001b[0m in \u001b[0;36m_wrapper\u001b[0;34m(*args, **keywords)\u001b[0m\n\u001b[1;32m     78\u001b[0m             \u001b[0;32mexcept\u001b[0m \u001b[0mException\u001b[0m \u001b[0;32mas\u001b[0m \u001b[0me\u001b[0m\u001b[0;34m:\u001b[0m\u001b[0;34m\u001b[0m\u001b[0;34m\u001b[0m\u001b[0m\n\u001b[1;32m     79\u001b[0m                 \u001b[0mbk_e\u001b[0m \u001b[0;34m=\u001b[0m \u001b[0me\u001b[0m\u001b[0;34m\u001b[0m\u001b[0;34m\u001b[0m\u001b[0m\n\u001b[0;32m---> 80\u001b[0;31m                 \u001b[0;32mraise\u001b[0m \u001b[0me\u001b[0m\u001b[0;34m\u001b[0m\u001b[0;34m\u001b[0m\u001b[0m\n\u001b[0m\u001b[1;32m     81\u001b[0m             \u001b[0;32mfinally\u001b[0m\u001b[0;34m:\u001b[0m\u001b[0;34m\u001b[0m\u001b[0;34m\u001b[0m\u001b[0m\n\u001b[1;32m     82\u001b[0m                 \u001b[0;32mif\u001b[0m \u001b[0mpos\u001b[0m \u001b[0;34m!=\u001b[0m \u001b[0mLogPosition\u001b[0m\u001b[0;34m.\u001b[0m\u001b[0mTOP\u001b[0m\u001b[0;34m:\u001b[0m\u001b[0;34m\u001b[0m\u001b[0;34m\u001b[0m\u001b[0m\n",
            "\u001b[0;32m/usr/local/lib/python3.7/dist-packages/function_burger/function_burger.py\u001b[0m in \u001b[0;36m_wrapper\u001b[0;34m(*args, **keywords)\u001b[0m\n\u001b[1;32m     75\u001b[0m             \u001b[0mbk_e\u001b[0m \u001b[0;34m=\u001b[0m \u001b[0;32mNone\u001b[0m\u001b[0;34m\u001b[0m\u001b[0;34m\u001b[0m\u001b[0m\n\u001b[1;32m     76\u001b[0m             \u001b[0;32mtry\u001b[0m\u001b[0;34m:\u001b[0m\u001b[0;34m\u001b[0m\u001b[0;34m\u001b[0m\u001b[0m\n\u001b[0;32m---> 77\u001b[0;31m                 \u001b[0mret\u001b[0m \u001b[0;34m=\u001b[0m \u001b[0mf\u001b[0m\u001b[0;34m(\u001b[0m\u001b[0;34m*\u001b[0m\u001b[0margs\u001b[0m\u001b[0;34m,\u001b[0m \u001b[0;34m**\u001b[0m\u001b[0mkeywords\u001b[0m\u001b[0;34m)\u001b[0m\u001b[0;34m\u001b[0m\u001b[0;34m\u001b[0m\u001b[0m\n\u001b[0m\u001b[1;32m     78\u001b[0m             \u001b[0;32mexcept\u001b[0m \u001b[0mException\u001b[0m \u001b[0;32mas\u001b[0m \u001b[0me\u001b[0m\u001b[0;34m:\u001b[0m\u001b[0;34m\u001b[0m\u001b[0;34m\u001b[0m\u001b[0m\n\u001b[1;32m     79\u001b[0m                 \u001b[0mbk_e\u001b[0m \u001b[0;34m=\u001b[0m \u001b[0me\u001b[0m\u001b[0;34m\u001b[0m\u001b[0;34m\u001b[0m\u001b[0m\n",
            "\u001b[0;32m<ipython-input-17-07bf1abb8ff3>\u001b[0m in \u001b[0;36mexample\u001b[0;34m()\u001b[0m\n\u001b[1;32m      3\u001b[0m \u001b[0;34m@\u001b[0m\u001b[0mburger_log\u001b[0m\u001b[0;34m(\u001b[0m\u001b[0;34m)\u001b[0m\u001b[0;34m\u001b[0m\u001b[0;34m\u001b[0m\u001b[0m\n\u001b[1;32m      4\u001b[0m \u001b[0;32mdef\u001b[0m \u001b[0mexample\u001b[0m\u001b[0;34m(\u001b[0m\u001b[0;34m)\u001b[0m\u001b[0;34m:\u001b[0m\u001b[0;34m\u001b[0m\u001b[0;34m\u001b[0m\u001b[0m\n\u001b[0;32m----> 5\u001b[0;31m     \u001b[0;32mraise\u001b[0m \u001b[0mException\u001b[0m\u001b[0;34m(\u001b[0m\u001b[0;34m\"An exception occurred.\"\u001b[0m\u001b[0;34m)\u001b[0m\u001b[0;34m\u001b[0m\u001b[0;34m\u001b[0m\u001b[0m\n\u001b[0m\u001b[1;32m      6\u001b[0m \u001b[0;34m\u001b[0m\u001b[0m\n\u001b[1;32m      7\u001b[0m \u001b[0mexample\u001b[0m\u001b[0;34m(\u001b[0m\u001b[0;34m)\u001b[0m\u001b[0;34m\u001b[0m\u001b[0;34m\u001b[0m\u001b[0m\n",
            "\u001b[0;31mException\u001b[0m: An exception occurred."
          ]
        }
      ]
    }
  ]
}