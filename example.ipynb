{
  "nbformat": 4,
  "nbformat_minor": 0,
  "metadata": {
    "colab": {
      "name": "example.ipynb",
      "provenance": [],
      "authorship_tag": "ABX9TyNOlWRYdNr503ABCobMBCIU",
      "include_colab_link": true
    },
    "kernelspec": {
      "name": "python3",
      "display_name": "Python 3"
    },
    "language_info": {
      "name": "python"
    }
  },
  "cells": [
    {
      "cell_type": "markdown",
      "metadata": {
        "id": "view-in-github",
        "colab_type": "text"
      },
      "source": [
        "<a href=\"https://colab.research.google.com/github/MamedenQ/function-burger/blob/master/example.ipynb\" target=\"_parent\"><img src=\"https://colab.research.google.com/assets/colab-badge.svg\" alt=\"Open In Colab\"/></a>"
      ]
    },
    {
      "cell_type": "markdown",
      "source": [
        "# Installation"
      ],
      "metadata": {
        "id": "xUcA8cu8G58F"
      }
    },
    {
      "cell_type": "code",
      "execution_count": null,
      "metadata": {
        "colab": {
          "base_uri": "https://localhost:8080/"
        },
        "id": "VkHPU49cF-CD",
        "outputId": "62a77fb3-09da-4323-a484-84e5b2b446e8"
      },
      "outputs": [
        {
          "output_type": "stream",
          "name": "stdout",
          "text": [
            "Looking in indexes: https://pypi.org/simple, https://us-python.pkg.dev/colab-wheels/public/simple/\n",
            "Collecting function-burger\n",
            "  Downloading function_burger-1.0.1-py3-none-any.whl (6.2 kB)\n",
            "Installing collected packages: function-burger\n",
            "Successfully installed function-burger-1.0.1\n"
          ]
        }
      ],
      "source": [
        "!pip install function-burger"
      ]
    },
    {
      "cell_type": "markdown",
      "source": [
        "## （For developers）"
      ],
      "metadata": {
        "id": "wci7FR4JleV1"
      }
    },
    {
      "cell_type": "markdown",
      "source": [
        "Try the latest committed version"
      ],
      "metadata": {
        "id": "S1GVvcZAlgwx"
      }
    },
    {
      "cell_type": "code",
      "source": [
        "!git clone https://github.com/MamedenQ/function-burger.git\n",
        "%cd function-burger"
      ],
      "metadata": {
        "id": "SoFSWLA6lipl"
      },
      "execution_count": null,
      "outputs": []
    },
    {
      "cell_type": "markdown",
      "source": [
        "pypi test environment upload version operation check"
      ],
      "metadata": {
        "id": "vfVOZ9r5lj27"
      }
    },
    {
      "cell_type": "code",
      "source": [
        "!pip install --index-url https://test.pypi.org/simple/ function-burger==1.1.0"
      ],
      "metadata": {
        "id": "oDttz3Eblloe",
        "outputId": "570a3106-8bf3-4542-8e2e-6586e03a9d67",
        "colab": {
          "base_uri": "https://localhost:8080/"
        }
      },
      "execution_count": 1,
      "outputs": [
        {
          "output_type": "stream",
          "name": "stdout",
          "text": [
            "Looking in indexes: https://test.pypi.org/simple/, https://us-python.pkg.dev/colab-wheels/public/simple/\n",
            "Collecting function-burger==1.1.0\n",
            "  Downloading https://test-files.pythonhosted.org/packages/ef/1d/76f31875f3fdaa010850ee0a9601deb80a43959857ace4d6e70defed00cf/function_burger-1.1.0-py3-none-any.whl (6.3 kB)\n",
            "Installing collected packages: function-burger\n",
            "Successfully installed function-burger-1.1.0\n"
          ]
        }
      ]
    },
    {
      "cell_type": "markdown",
      "source": [
        "# Usage"
      ],
      "metadata": {
        "id": "Qa5_52bUG9So"
      }
    },
    {
      "cell_type": "markdown",
      "source": [
        "## burger"
      ],
      "metadata": {
        "id": "4B5fTNahHEnF"
      }
    },
    {
      "cell_type": "code",
      "source": [
        "from function_burger import burger_log\n",
        "\n",
        "@burger_log()\n",
        "def example_func(input_str):\n",
        "    print(f\"input_str[{input_str}]\")\n",
        "\n",
        "example_func(\"example!!\")"
      ],
      "metadata": {
        "colab": {
          "base_uri": "https://localhost:8080/"
        },
        "id": "WsGSAPTfGGGZ",
        "outputId": "6b92a55d-f42d-4b38-88d4-91dbb1078614"
      },
      "execution_count": 2,
      "outputs": [
        {
          "output_type": "stream",
          "name": "stdout",
          "text": [
            "[INFO] 2022-08-28 03:55:23.153050\n",
            "input_str[example!!]\n",
            "[INFO] 2022-08-28 03:55:23.156658\n"
          ]
        }
      ]
    },
    {
      "cell_type": "markdown",
      "source": [
        "## top"
      ],
      "metadata": {
        "id": "Bndal1JTHGj0"
      }
    },
    {
      "cell_type": "code",
      "source": [
        "from function_burger import top_log\n",
        "\n",
        "@top_log()\n",
        "def example_func(input_str):\n",
        "    print(f\"input_str[{input_str}]\")\n",
        "\n",
        "example_func(\"example!!\")"
      ],
      "metadata": {
        "colab": {
          "base_uri": "https://localhost:8080/"
        },
        "id": "18_z4zotGSA0",
        "outputId": "2f94e035-dff6-4366-d72f-ffcf8ccc15bf"
      },
      "execution_count": 3,
      "outputs": [
        {
          "output_type": "stream",
          "name": "stdout",
          "text": [
            "[INFO] 2022-08-28 03:55:23.175085\n",
            "input_str[example!!]\n"
          ]
        }
      ]
    },
    {
      "cell_type": "markdown",
      "source": [
        "## bottom"
      ],
      "metadata": {
        "id": "-liVQuY2HHs-"
      }
    },
    {
      "cell_type": "code",
      "source": [
        "from function_burger import bottom_log\n",
        "\n",
        "@bottom_log()\n",
        "def example_func(input_str):\n",
        "    print(f\"input_str[{input_str}]\")\n",
        "\n",
        "example_func(\"example!!\")"
      ],
      "metadata": {
        "colab": {
          "base_uri": "https://localhost:8080/"
        },
        "id": "pVUTKXubG1Wn",
        "outputId": "945b4cc4-e4af-46c9-af10-d4863f693307"
      },
      "execution_count": 4,
      "outputs": [
        {
          "output_type": "stream",
          "name": "stdout",
          "text": [
            "input_str[example!!]\n",
            "[INFO] 2022-08-28 03:55:23.192440\n"
          ]
        }
      ]
    },
    {
      "cell_type": "markdown",
      "source": [
        "# Options"
      ],
      "metadata": {
        "id": "7bzThPwKHMxM"
      }
    },
    {
      "cell_type": "markdown",
      "source": [
        "## level"
      ],
      "metadata": {
        "id": "4kcMtI1KHQTy"
      }
    },
    {
      "cell_type": "code",
      "source": [
        "from function_burger import top_log, LogLevel\n",
        "\n",
        "@top_log(level=LogLevel.DEBUG)\n",
        "def example_debug():\n",
        "    pass\n",
        "\n",
        "@top_log(level=LogLevel.INFO)\n",
        "def example_info():\n",
        "    pass\n",
        "\n",
        "@top_log(level=LogLevel.WARN)\n",
        "def example_warn():\n",
        "    pass\n",
        "\n",
        "@top_log(level=LogLevel.ERROR)\n",
        "def example_error():\n",
        "    pass\n",
        "\n",
        "@top_log(level=LogLevel.VERBOSE)\n",
        "def example_verb():\n",
        "    pass\n",
        "\n",
        "example_debug()\n",
        "example_info()\n",
        "example_warn()\n",
        "example_error()\n",
        "example_verb()"
      ],
      "metadata": {
        "colab": {
          "base_uri": "https://localhost:8080/"
        },
        "id": "wFSnQ3qcHNun",
        "outputId": "4c4a1c00-4f87-4333-ad42-23ac3019e12c"
      },
      "execution_count": 5,
      "outputs": [
        {
          "output_type": "stream",
          "name": "stdout",
          "text": [
            "\u001b[36m[DEBUG]\u001b[0m 2022-08-28 03:55:23.210871\n",
            "[INFO] 2022-08-28 03:55:23.211280\n",
            "\u001b[33m[WARN]\u001b[0m 2022-08-28 03:55:23.211691\n",
            "\u001b[31m[ERROR]\u001b[0m 2022-08-28 03:55:23.211833\n",
            "\u001b[35m[VERBOSE]\u001b[0m 2022-08-28 03:55:23.211956\n"
          ]
        }
      ]
    },
    {
      "cell_type": "markdown",
      "source": [
        "## timestamp"
      ],
      "metadata": {
        "id": "iZxKMpvUIHbl"
      }
    },
    {
      "cell_type": "code",
      "source": [
        "from function_burger import top_log\n",
        "\n",
        "@top_log()\n",
        "def example1():\n",
        "    pass\n",
        "\n",
        "@top_log(timestamp=False)\n",
        "def example2():\n",
        "    pass\n",
        "\n",
        "example1()\n",
        "example2()"
      ],
      "metadata": {
        "colab": {
          "base_uri": "https://localhost:8080/"
        },
        "id": "LQIt_6kJIIb4",
        "outputId": "be0f55a9-d1b3-40b6-c782-8c91d3d0b447"
      },
      "execution_count": 6,
      "outputs": [
        {
          "output_type": "stream",
          "name": "stdout",
          "text": [
            "[INFO] 2022-08-28 03:55:23.232472\n",
            "[INFO]\n"
          ]
        }
      ]
    },
    {
      "cell_type": "markdown",
      "source": [
        "## elapsed_time"
      ],
      "metadata": {
        "id": "q_rJX7kAIboD"
      }
    },
    {
      "cell_type": "code",
      "source": [
        "from function_burger import bottom_log\n",
        "\n",
        "@bottom_log(elapsed_time=True)\n",
        "def example():\n",
        "    pass\n",
        "\n",
        "example()"
      ],
      "metadata": {
        "colab": {
          "base_uri": "https://localhost:8080/"
        },
        "id": "tFnQIkZwIanl",
        "outputId": "d192f59c-acd3-4396-da8c-bb3c5431ee48"
      },
      "execution_count": 7,
      "outputs": [
        {
          "output_type": "stream",
          "name": "stdout",
          "text": [
            "[INFO] 2022-08-28 03:55:23.254660 elapsed time[0:00:00.000010]\n"
          ]
        }
      ]
    },
    {
      "cell_type": "markdown",
      "source": [
        "## fname"
      ],
      "metadata": {
        "id": "J6pI_13iIqVe"
      }
    },
    {
      "cell_type": "code",
      "source": [
        "from function_burger import top_log\n",
        "\n",
        "@top_log(fname=True)\n",
        "def example():\n",
        "    pass\n",
        "\n",
        "example()"
      ],
      "metadata": {
        "colab": {
          "base_uri": "https://localhost:8080/"
        },
        "id": "OcGAx4_KIrtf",
        "outputId": "6da41063-1ac4-4e73-f28a-6b982e1e7bb7"
      },
      "execution_count": 8,
      "outputs": [
        {
          "output_type": "stream",
          "name": "stdout",
          "text": [
            "[INFO] 2022-08-28 03:55:23.269010 func[example]\n"
          ]
        }
      ]
    },
    {
      "cell_type": "markdown",
      "source": [
        "## tid"
      ],
      "metadata": {
        "id": "GBBz1Q3ZIwxK"
      }
    },
    {
      "cell_type": "code",
      "source": [
        "from function_burger import top_log\n",
        "import threading as th\n",
        "\n",
        "@top_log(tid=True)\n",
        "def example():\n",
        "    pass\n",
        "\n",
        "example()\n",
        "\n",
        "t = th.Thread(target=example)\n",
        "t.start()"
      ],
      "metadata": {
        "colab": {
          "base_uri": "https://localhost:8080/"
        },
        "id": "6RW40f2LIygX",
        "outputId": "27273eb9-511f-407b-bd9d-93761eab7e47"
      },
      "execution_count": 9,
      "outputs": [
        {
          "output_type": "stream",
          "name": "stdout",
          "text": [
            "[INFO] 2022-08-28 03:55:23.284726 [140580744841088]\n",
            "[INFO] 2022-08-28 03:55:23.287377 [140580372895488]\n"
          ]
        }
      ]
    },
    {
      "cell_type": "markdown",
      "source": [
        "## inputval"
      ],
      "metadata": {
        "id": "VWOQoG44Jgcz"
      }
    },
    {
      "cell_type": "code",
      "source": [
        "from function_burger import burger_log\n",
        "\n",
        "@burger_log(inputval=True)\n",
        "def example(a: int, b: int, *, c: int, d: int):\n",
        "    pass\n",
        "\n",
        "example(1, 2, c=3, d=4)"
      ],
      "metadata": {
        "colab": {
          "base_uri": "https://localhost:8080/"
        },
        "id": "FkoKKOFeJhte",
        "outputId": "5932ee59-3208-4903-8eb4-96bfbaaa544f"
      },
      "execution_count": 10,
      "outputs": [
        {
          "output_type": "stream",
          "name": "stdout",
          "text": [
            "[INFO] 2022-08-28 03:55:23.300499 args[(1, 2)] keywords[{'c': 3, 'd': 4}]\n",
            "[INFO] 2022-08-28 03:55:23.302425\n"
          ]
        }
      ]
    },
    {
      "cell_type": "markdown",
      "source": [
        "## inputval_func"
      ],
      "metadata": {
        "id": "J-OMhnafJyuM"
      }
    },
    {
      "cell_type": "code",
      "source": [
        "from function_burger import burger_log\n",
        "\n",
        "class ExampleCls:\n",
        "    def __init__(self):\n",
        "        self.num = 0\n",
        "    def inc_num(self):\n",
        "        self.num += 1\n",
        "    def get_num(self):\n",
        "        return self.num\n",
        "\n",
        "@burger_log(\n",
        "    inputval=True, inputval_func=lambda *a, **k: f\"num[{a[0].get_num()}]\"\n",
        ")\n",
        "def increment_num(cls):\n",
        "    cls.inc_num()\n",
        "\n",
        "cls = ExampleCls()\n",
        "cls.inc_num()\n",
        "cls.inc_num()\n",
        "\n",
        "increment_num(cls)"
      ],
      "metadata": {
        "colab": {
          "base_uri": "https://localhost:8080/"
        },
        "id": "mzvDulxhJzr9",
        "outputId": "3a8e50c9-6e2b-450d-d013-214b4af1ba09"
      },
      "execution_count": 11,
      "outputs": [
        {
          "output_type": "stream",
          "name": "stdout",
          "text": [
            "[INFO] 2022-08-28 03:55:23.316755 args[num[2]]\n",
            "[INFO] 2022-08-28 03:55:23.320038\n"
          ]
        }
      ]
    },
    {
      "cell_type": "markdown",
      "source": [
        "## retval"
      ],
      "metadata": {
        "id": "-c1bDMSiKBDj"
      }
    },
    {
      "cell_type": "code",
      "source": [
        "from function_burger import burger_log\n",
        "\n",
        "@burger_log(retval=True)\n",
        "def example():\n",
        "    return \"ret_val\"\n",
        "\n",
        "ret = example()"
      ],
      "metadata": {
        "colab": {
          "base_uri": "https://localhost:8080/"
        },
        "id": "yxhIn2g8KGQF",
        "outputId": "3792d001-dbfe-4309-bd52-13bd0f36cc56"
      },
      "execution_count": 12,
      "outputs": [
        {
          "output_type": "stream",
          "name": "stdout",
          "text": [
            "[INFO] 2022-08-28 03:55:23.330267\n",
            "[INFO] 2022-08-28 03:55:23.330377 ret[ret_val]\n"
          ]
        }
      ]
    },
    {
      "cell_type": "markdown",
      "source": [
        "## retval_func"
      ],
      "metadata": {
        "id": "GEsT1R46KT7Q"
      }
    },
    {
      "cell_type": "code",
      "source": [
        "from function_burger import burger_log\n",
        "\n",
        "class ExampleCls:\n",
        "    def __init__(self):\n",
        "        self.num = 0\n",
        "    def inc_num(self):\n",
        "        self.num += 1\n",
        "    def get_num(self):\n",
        "        return self.num\n",
        "\n",
        "@burger_log(retval=True, retval_func=lambda a: f\"num[{a.get_num()}]\")\n",
        "def get_example():\n",
        "    return ExampleCls()\n",
        "\n",
        "cls = get_example()"
      ],
      "metadata": {
        "colab": {
          "base_uri": "https://localhost:8080/"
        },
        "id": "qscWztIfKTkn",
        "outputId": "017b304f-2492-47c4-9258-147a10d2d9a7"
      },
      "execution_count": 13,
      "outputs": [
        {
          "output_type": "stream",
          "name": "stdout",
          "text": [
            "[INFO] 2022-08-28 03:55:23.344305\n",
            "[INFO] 2022-08-28 03:55:23.346981 ret[num[0]]\n"
          ]
        }
      ]
    },
    {
      "cell_type": "markdown",
      "source": [
        "## top_word"
      ],
      "metadata": {
        "id": "KSYgDSR-KaLO"
      }
    },
    {
      "cell_type": "code",
      "source": [
        "from function_burger import burger_log, top_log\n",
        "\n",
        "@burger_log(top_word=\"start\", fname=True)\n",
        "def example1():\n",
        "    pass\n",
        "\n",
        "@top_log(word=\"start\", fname=True)\n",
        "def example2():\n",
        "    pass\n",
        "\n",
        "example1()\n",
        "example2()"
      ],
      "metadata": {
        "colab": {
          "base_uri": "https://localhost:8080/"
        },
        "id": "3wqlwk7jKbGm",
        "outputId": "fd581936-83db-46df-8036-d889e499b99b"
      },
      "execution_count": 14,
      "outputs": [
        {
          "output_type": "stream",
          "name": "stdout",
          "text": [
            "[INFO] 2022-08-28 03:55:23.358938 func[example1] start\n",
            "[INFO] 2022-08-28 03:55:23.359043 func[example1]\n",
            "[INFO] 2022-08-28 03:55:23.359159 func[example2] start\n"
          ]
        }
      ]
    },
    {
      "cell_type": "markdown",
      "source": [
        "## bottom_word"
      ],
      "metadata": {
        "id": "GAxxvrorKv3b"
      }
    },
    {
      "cell_type": "code",
      "source": [
        "from function_burger import burger_log, bottom_log\n",
        "\n",
        "@burger_log(bottom_word=\"end\", fname=True)\n",
        "def example1():\n",
        "    pass\n",
        "\n",
        "@bottom_log(word=\"end\", fname=True)\n",
        "def example2():\n",
        "    pass\n",
        "\n",
        "example1()\n",
        "example2()"
      ],
      "metadata": {
        "colab": {
          "base_uri": "https://localhost:8080/"
        },
        "id": "Zq20Q2-7KxuM",
        "outputId": "7158e6a2-8340-4da7-9ae7-f8aa2dc52c60"
      },
      "execution_count": 15,
      "outputs": [
        {
          "output_type": "stream",
          "name": "stdout",
          "text": [
            "[INFO] 2022-08-28 03:55:23.373356 func[example1]\n",
            "[INFO] 2022-08-28 03:55:23.373448 func[example1] end\n",
            "[INFO] 2022-08-28 03:55:23.373571 func[example2] end\n"
          ]
        }
      ]
    },
    {
      "cell_type": "markdown",
      "source": [
        "## color"
      ],
      "metadata": {
        "id": "TZoA8ZRNK4OQ"
      }
    },
    {
      "cell_type": "code",
      "source": [
        "from function_burger import top_log, LogColor\n",
        "\n",
        "@top_log(color=LogColor.VANILLA_SHAKE)\n",
        "def example_vanilla():\n",
        "    pass\n",
        "\n",
        "@top_log(color=LogColor.MUSTARD)\n",
        "def example_mustard():\n",
        "    pass\n",
        "\n",
        "@top_log(color=LogColor.KETCHUP)\n",
        "def example_ketchup():\n",
        "    pass\n",
        "\n",
        "@top_log(color=LogColor.MINT_CHOCOLATE)\n",
        "def example_mint_chocolate():\n",
        "    pass\n",
        "\n",
        "@top_log(color=LogColor.SODA)\n",
        "def example_soda():\n",
        "    pass\n",
        "\n",
        "@top_log(color=LogColor.LETTUCE)\n",
        "def example_lettuce():\n",
        "    pass\n",
        "\n",
        "@top_log(color=LogColor.GRAPE_JUICE)\n",
        "def example_grape_juice():\n",
        "    pass\n",
        "\n",
        "@top_log(color=LogColor.COLA)\n",
        "def example_cola():\n",
        "    pass\n",
        "\n",
        "example_vanilla()\n",
        "example_mustard()\n",
        "example_ketchup()\n",
        "example_mint_chocolate()\n",
        "example_soda()\n",
        "example_lettuce()\n",
        "example_grape_juice()\n",
        "example_cola()"
      ],
      "metadata": {
        "colab": {
          "base_uri": "https://localhost:8080/"
        },
        "id": "rspnVSb1K5Gf",
        "outputId": "c834a137-fef9-4973-b501-3b01faf119c2"
      },
      "execution_count": 16,
      "outputs": [
        {
          "output_type": "stream",
          "name": "stdout",
          "text": [
            "[INFO] 2022-08-28 03:55:23.392789\n",
            "[INFO]\u001b[33m 2022-08-28 03:55:23.396943\u001b[0m\n",
            "[INFO]\u001b[31m 2022-08-28 03:55:23.397109\u001b[0m\n",
            "[INFO]\u001b[36m 2022-08-28 03:55:23.397247\u001b[0m\n",
            "[INFO]\u001b[34m 2022-08-28 03:55:23.397366\u001b[0m\n",
            "[INFO]\u001b[32m 2022-08-28 03:55:23.397459\u001b[0m\n",
            "[INFO]\u001b[35m 2022-08-28 03:55:23.397545\u001b[0m\n",
            "[INFO]\u001b[30m 2022-08-28 03:55:23.397633\u001b[0m\n"
          ]
        }
      ]
    },
    {
      "cell_type": "markdown",
      "source": [
        "# when an exception occurs"
      ],
      "metadata": {
        "id": "h4XYURjqLsHm"
      }
    },
    {
      "cell_type": "code",
      "source": [
        "from function_burger import burger_log\n",
        "\n",
        "@burger_log()\n",
        "def example():\n",
        "    raise Exception(\"An exception occurred.\")\n",
        "\n",
        "example()"
      ],
      "metadata": {
        "colab": {
          "base_uri": "https://localhost:8080/",
          "height": 385
        },
        "id": "yDgTnH44Lt_X",
        "outputId": "9131b7d8-a1a8-4339-9fb3-75d3a61b1feb"
      },
      "execution_count": 17,
      "outputs": [
        {
          "output_type": "stream",
          "name": "stdout",
          "text": [
            "[INFO] 2022-08-28 03:55:23.411686\n",
            "[INFO] 2022-08-28 03:55:23.411802 \u001b[7m\u001b[31mexcept[An exception occurred.]\u001b[0m\n"
          ]
        },
        {
          "output_type": "error",
          "ename": "Exception",
          "evalue": "ignored",
          "traceback": [
            "\u001b[0;31m---------------------------------------------------------------------------\u001b[0m",
            "\u001b[0;31mException\u001b[0m                                 Traceback (most recent call last)",
            "\u001b[0;32m<ipython-input-17-07bf1abb8ff3>\u001b[0m in \u001b[0;36m<module>\u001b[0;34m\u001b[0m\n\u001b[1;32m      5\u001b[0m     \u001b[0;32mraise\u001b[0m \u001b[0mException\u001b[0m\u001b[0;34m(\u001b[0m\u001b[0;34m\"An exception occurred.\"\u001b[0m\u001b[0;34m)\u001b[0m\u001b[0;34m\u001b[0m\u001b[0;34m\u001b[0m\u001b[0m\n\u001b[1;32m      6\u001b[0m \u001b[0;34m\u001b[0m\u001b[0m\n\u001b[0;32m----> 7\u001b[0;31m \u001b[0mexample\u001b[0m\u001b[0;34m(\u001b[0m\u001b[0;34m)\u001b[0m\u001b[0;34m\u001b[0m\u001b[0;34m\u001b[0m\u001b[0m\n\u001b[0m",
            "\u001b[0;32m/usr/local/lib/python3.7/dist-packages/function_burger/function_burger.py\u001b[0m in \u001b[0;36m_wrapper\u001b[0;34m(*args, **keywords)\u001b[0m\n\u001b[1;32m     79\u001b[0m             \u001b[0;32mexcept\u001b[0m \u001b[0mException\u001b[0m \u001b[0;32mas\u001b[0m \u001b[0me\u001b[0m\u001b[0;34m:\u001b[0m\u001b[0;34m\u001b[0m\u001b[0;34m\u001b[0m\u001b[0m\n\u001b[1;32m     80\u001b[0m                 \u001b[0mbk_e\u001b[0m \u001b[0;34m=\u001b[0m \u001b[0me\u001b[0m\u001b[0;34m\u001b[0m\u001b[0;34m\u001b[0m\u001b[0m\n\u001b[0;32m---> 81\u001b[0;31m                 \u001b[0;32mraise\u001b[0m \u001b[0me\u001b[0m\u001b[0;34m\u001b[0m\u001b[0;34m\u001b[0m\u001b[0m\n\u001b[0m\u001b[1;32m     82\u001b[0m             \u001b[0;32mfinally\u001b[0m\u001b[0;34m:\u001b[0m\u001b[0;34m\u001b[0m\u001b[0;34m\u001b[0m\u001b[0m\n\u001b[1;32m     83\u001b[0m                 \u001b[0;32mif\u001b[0m \u001b[0mpos\u001b[0m \u001b[0;34m!=\u001b[0m \u001b[0mLogPosition\u001b[0m\u001b[0;34m.\u001b[0m\u001b[0mTOP\u001b[0m\u001b[0;34m:\u001b[0m\u001b[0;34m\u001b[0m\u001b[0;34m\u001b[0m\u001b[0m\n",
            "\u001b[0;32m/usr/local/lib/python3.7/dist-packages/function_burger/function_burger.py\u001b[0m in \u001b[0;36m_wrapper\u001b[0;34m(*args, **keywords)\u001b[0m\n\u001b[1;32m     76\u001b[0m             \u001b[0mbk_e\u001b[0m \u001b[0;34m=\u001b[0m \u001b[0;32mNone\u001b[0m\u001b[0;34m\u001b[0m\u001b[0;34m\u001b[0m\u001b[0m\n\u001b[1;32m     77\u001b[0m             \u001b[0;32mtry\u001b[0m\u001b[0;34m:\u001b[0m\u001b[0;34m\u001b[0m\u001b[0;34m\u001b[0m\u001b[0m\n\u001b[0;32m---> 78\u001b[0;31m                 \u001b[0mret\u001b[0m \u001b[0;34m=\u001b[0m \u001b[0mf\u001b[0m\u001b[0;34m(\u001b[0m\u001b[0;34m*\u001b[0m\u001b[0margs\u001b[0m\u001b[0;34m,\u001b[0m \u001b[0;34m**\u001b[0m\u001b[0mkeywords\u001b[0m\u001b[0;34m)\u001b[0m\u001b[0;34m\u001b[0m\u001b[0;34m\u001b[0m\u001b[0m\n\u001b[0m\u001b[1;32m     79\u001b[0m             \u001b[0;32mexcept\u001b[0m \u001b[0mException\u001b[0m \u001b[0;32mas\u001b[0m \u001b[0me\u001b[0m\u001b[0;34m:\u001b[0m\u001b[0;34m\u001b[0m\u001b[0;34m\u001b[0m\u001b[0m\n\u001b[1;32m     80\u001b[0m                 \u001b[0mbk_e\u001b[0m \u001b[0;34m=\u001b[0m \u001b[0me\u001b[0m\u001b[0;34m\u001b[0m\u001b[0;34m\u001b[0m\u001b[0m\n",
            "\u001b[0;32m<ipython-input-17-07bf1abb8ff3>\u001b[0m in \u001b[0;36mexample\u001b[0;34m()\u001b[0m\n\u001b[1;32m      3\u001b[0m \u001b[0;34m@\u001b[0m\u001b[0mburger_log\u001b[0m\u001b[0;34m(\u001b[0m\u001b[0;34m)\u001b[0m\u001b[0;34m\u001b[0m\u001b[0;34m\u001b[0m\u001b[0m\n\u001b[1;32m      4\u001b[0m \u001b[0;32mdef\u001b[0m \u001b[0mexample\u001b[0m\u001b[0;34m(\u001b[0m\u001b[0;34m)\u001b[0m\u001b[0;34m:\u001b[0m\u001b[0;34m\u001b[0m\u001b[0;34m\u001b[0m\u001b[0m\n\u001b[0;32m----> 5\u001b[0;31m     \u001b[0;32mraise\u001b[0m \u001b[0mException\u001b[0m\u001b[0;34m(\u001b[0m\u001b[0;34m\"An exception occurred.\"\u001b[0m\u001b[0;34m)\u001b[0m\u001b[0;34m\u001b[0m\u001b[0;34m\u001b[0m\u001b[0m\n\u001b[0m\u001b[1;32m      6\u001b[0m \u001b[0;34m\u001b[0m\u001b[0m\n\u001b[1;32m      7\u001b[0m \u001b[0mexample\u001b[0m\u001b[0;34m(\u001b[0m\u001b[0;34m)\u001b[0m\u001b[0;34m\u001b[0m\u001b[0;34m\u001b[0m\u001b[0m\n",
            "\u001b[0;31mException\u001b[0m: An exception occurred."
          ]
        }
      ]
    }
  ]
}