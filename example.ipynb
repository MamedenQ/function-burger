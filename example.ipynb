{
  "nbformat": 4,
  "nbformat_minor": 0,
  "metadata": {
    "colab": {
      "name": "example.ipynb",
      "provenance": [],
      "authorship_tag": "ABX9TyNIFTqfzeQLqj/2aYgkE/ha",
      "include_colab_link": true
    },
    "kernelspec": {
      "name": "python3",
      "display_name": "Python 3"
    },
    "language_info": {
      "name": "python"
    }
  },
  "cells": [
    {
      "cell_type": "markdown",
      "metadata": {
        "id": "view-in-github",
        "colab_type": "text"
      },
      "source": [
        "<a href=\"https://colab.research.google.com/github/MamedenQ/function-burger/blob/master/example.ipynb\" target=\"_parent\"><img src=\"https://colab.research.google.com/assets/colab-badge.svg\" alt=\"Open In Colab\"/></a>"
      ]
    },
    {
      "cell_type": "markdown",
      "source": [
        "# Installation"
      ],
      "metadata": {
        "id": "xUcA8cu8G58F"
      }
    },
    {
      "cell_type": "code",
      "execution_count": 1,
      "metadata": {
        "colab": {
          "base_uri": "https://localhost:8080/"
        },
        "id": "VkHPU49cF-CD",
        "outputId": "777e07df-7a3d-4e57-b355-a90b87a6eda7"
      },
      "outputs": [
        {
          "output_type": "stream",
          "name": "stdout",
          "text": [
            "Looking in indexes: https://pypi.org/simple, https://us-python.pkg.dev/colab-wheels/public/simple/\n",
            "Collecting function-burger\n",
            "  Downloading function_burger-1.0.1-py3-none-any.whl (6.2 kB)\n",
            "Installing collected packages: function-burger\n",
            "Successfully installed function-burger-1.0.1\n"
          ]
        }
      ],
      "source": [
        "!pip install function-burger"
      ]
    },
    {
      "cell_type": "code",
      "source": [
        "!pip install -U function-burger"
      ],
      "metadata": {
        "id": "IRAqGCL4nuhU",
        "outputId": "417107b4-ac4d-4ad5-eea0-577a358205f9",
        "colab": {
          "base_uri": "https://localhost:8080/"
        }
      },
      "execution_count": 4,
      "outputs": [
        {
          "output_type": "stream",
          "name": "stdout",
          "text": [
            "Looking in indexes: https://pypi.org/simple, https://us-python.pkg.dev/colab-wheels/public/simple/\n",
            "Requirement already satisfied: function-burger in /usr/local/lib/python3.7/dist-packages (1.0.1)\n",
            "Collecting function-burger\n",
            "  Downloading function_burger-1.1.0-py3-none-any.whl (6.3 kB)\n",
            "Installing collected packages: function-burger\n",
            "  Attempting uninstall: function-burger\n",
            "    Found existing installation: function-burger 1.0.1\n",
            "    Uninstalling function-burger-1.0.1:\n",
            "      Successfully uninstalled function-burger-1.0.1\n",
            "Successfully installed function-burger-1.1.0\n"
          ]
        }
      ]
    },
    {
      "cell_type": "markdown",
      "source": [
        "## （For developers）"
      ],
      "metadata": {
        "id": "wci7FR4JleV1"
      }
    },
    {
      "cell_type": "markdown",
      "source": [
        "Try the latest committed version"
      ],
      "metadata": {
        "id": "S1GVvcZAlgwx"
      }
    },
    {
      "cell_type": "code",
      "source": [
        "!git clone https://github.com/MamedenQ/function-burger.git\n",
        "%cd function-burger"
      ],
      "metadata": {
        "id": "SoFSWLA6lipl"
      },
      "execution_count": null,
      "outputs": []
    },
    {
      "cell_type": "markdown",
      "source": [
        "pypi test environment upload version operation check"
      ],
      "metadata": {
        "id": "vfVOZ9r5lj27"
      }
    },
    {
      "cell_type": "code",
      "source": [
        "!pip install --index-url https://test.pypi.org/simple/ function-burger==1.1.0"
      ],
      "metadata": {
        "id": "oDttz3Eblloe",
        "outputId": "570a3106-8bf3-4542-8e2e-6586e03a9d67",
        "colab": {
          "base_uri": "https://localhost:8080/"
        }
      },
      "execution_count": null,
      "outputs": [
        {
          "output_type": "stream",
          "name": "stdout",
          "text": [
            "Looking in indexes: https://test.pypi.org/simple/, https://us-python.pkg.dev/colab-wheels/public/simple/\n",
            "Collecting function-burger==1.1.0\n",
            "  Downloading https://test-files.pythonhosted.org/packages/ef/1d/76f31875f3fdaa010850ee0a9601deb80a43959857ace4d6e70defed00cf/function_burger-1.1.0-py3-none-any.whl (6.3 kB)\n",
            "Installing collected packages: function-burger\n",
            "Successfully installed function-burger-1.1.0\n"
          ]
        }
      ]
    },
    {
      "cell_type": "markdown",
      "source": [
        "# Check"
      ],
      "metadata": {
        "id": "xaSh7XqCoEhN"
      }
    },
    {
      "cell_type": "code",
      "source": [
        "!pip freeze | grep function-burger"
      ],
      "metadata": {
        "id": "dXqyhYHpoF6E",
        "outputId": "40d635b0-7525-45b5-8bf0-e8f924143f50",
        "colab": {
          "base_uri": "https://localhost:8080/"
        }
      },
      "execution_count": 6,
      "outputs": [
        {
          "output_type": "stream",
          "name": "stdout",
          "text": [
            "function-burger==1.1.0\n"
          ]
        }
      ]
    },
    {
      "cell_type": "markdown",
      "source": [
        "# Usage"
      ],
      "metadata": {
        "id": "Qa5_52bUG9So"
      }
    },
    {
      "cell_type": "markdown",
      "source": [
        "## burger"
      ],
      "metadata": {
        "id": "4B5fTNahHEnF"
      }
    },
    {
      "cell_type": "code",
      "source": [
        "from function_burger import burger_log\n",
        "\n",
        "@burger_log()\n",
        "def example_func(input_str):\n",
        "    print(f\"input_str[{input_str}]\")\n",
        "\n",
        "example_func(\"example!!\")"
      ],
      "metadata": {
        "colab": {
          "base_uri": "https://localhost:8080/"
        },
        "id": "WsGSAPTfGGGZ",
        "outputId": "00e24f31-7388-4da0-a4e4-9e86a464088a"
      },
      "execution_count": 7,
      "outputs": [
        {
          "output_type": "stream",
          "name": "stdout",
          "text": [
            "[INFO] 2022-08-28 04:06:02.544090\n",
            "input_str[example!!]\n",
            "[INFO] 2022-08-28 04:06:02.545768\n"
          ]
        }
      ]
    },
    {
      "cell_type": "markdown",
      "source": [
        "## top"
      ],
      "metadata": {
        "id": "Bndal1JTHGj0"
      }
    },
    {
      "cell_type": "code",
      "source": [
        "from function_burger import top_log\n",
        "\n",
        "@top_log()\n",
        "def example_func(input_str):\n",
        "    print(f\"input_str[{input_str}]\")\n",
        "\n",
        "example_func(\"example!!\")"
      ],
      "metadata": {
        "colab": {
          "base_uri": "https://localhost:8080/"
        },
        "id": "18_z4zotGSA0",
        "outputId": "11ac222f-8887-4812-f117-6677d4ebef8a"
      },
      "execution_count": 8,
      "outputs": [
        {
          "output_type": "stream",
          "name": "stdout",
          "text": [
            "[INFO] 2022-08-28 04:06:02.986525\n",
            "input_str[example!!]\n"
          ]
        }
      ]
    },
    {
      "cell_type": "markdown",
      "source": [
        "## bottom"
      ],
      "metadata": {
        "id": "-liVQuY2HHs-"
      }
    },
    {
      "cell_type": "code",
      "source": [
        "from function_burger import bottom_log\n",
        "\n",
        "@bottom_log()\n",
        "def example_func(input_str):\n",
        "    print(f\"input_str[{input_str}]\")\n",
        "\n",
        "example_func(\"example!!\")"
      ],
      "metadata": {
        "colab": {
          "base_uri": "https://localhost:8080/"
        },
        "id": "pVUTKXubG1Wn",
        "outputId": "824196bf-924d-4758-9009-be9028eba0a8"
      },
      "execution_count": 9,
      "outputs": [
        {
          "output_type": "stream",
          "name": "stdout",
          "text": [
            "input_str[example!!]\n",
            "[INFO] 2022-08-28 04:06:03.015998\n"
          ]
        }
      ]
    },
    {
      "cell_type": "markdown",
      "source": [
        "# Options"
      ],
      "metadata": {
        "id": "7bzThPwKHMxM"
      }
    },
    {
      "cell_type": "markdown",
      "source": [
        "## level"
      ],
      "metadata": {
        "id": "4kcMtI1KHQTy"
      }
    },
    {
      "cell_type": "code",
      "source": [
        "from function_burger import top_log, LogLevel\n",
        "\n",
        "@top_log(level=LogLevel.DEBUG)\n",
        "def example_debug():\n",
        "    pass\n",
        "\n",
        "@top_log(level=LogLevel.INFO)\n",
        "def example_info():\n",
        "    pass\n",
        "\n",
        "@top_log(level=LogLevel.WARN)\n",
        "def example_warn():\n",
        "    pass\n",
        "\n",
        "@top_log(level=LogLevel.ERROR)\n",
        "def example_error():\n",
        "    pass\n",
        "\n",
        "@top_log(level=LogLevel.VERBOSE)\n",
        "def example_verb():\n",
        "    pass\n",
        "\n",
        "example_debug()\n",
        "example_info()\n",
        "example_warn()\n",
        "example_error()\n",
        "example_verb()"
      ],
      "metadata": {
        "colab": {
          "base_uri": "https://localhost:8080/"
        },
        "id": "wFSnQ3qcHNun",
        "outputId": "ce4a00fe-34ce-4fc8-9817-7a086e5768f7"
      },
      "execution_count": 10,
      "outputs": [
        {
          "output_type": "stream",
          "name": "stdout",
          "text": [
            "\u001b[36m[DEBUG]\u001b[0m 2022-08-28 04:06:03.036277\n",
            "[INFO] 2022-08-28 04:06:03.037690\n",
            "\u001b[33m[WARN]\u001b[0m 2022-08-28 04:06:03.038825\n",
            "\u001b[31m[ERROR]\u001b[0m 2022-08-28 04:06:03.039883\n",
            "\u001b[35m[VERBOSE]\u001b[0m 2022-08-28 04:06:03.040559\n"
          ]
        }
      ]
    },
    {
      "cell_type": "markdown",
      "source": [
        "## timestamp"
      ],
      "metadata": {
        "id": "iZxKMpvUIHbl"
      }
    },
    {
      "cell_type": "code",
      "source": [
        "from function_burger import top_log\n",
        "\n",
        "@top_log()\n",
        "def example1():\n",
        "    pass\n",
        "\n",
        "@top_log(timestamp=False)\n",
        "def example2():\n",
        "    pass\n",
        "\n",
        "example1()\n",
        "example2()"
      ],
      "metadata": {
        "colab": {
          "base_uri": "https://localhost:8080/"
        },
        "id": "LQIt_6kJIIb4",
        "outputId": "4c4bd29f-d7a2-433e-ee63-57ebc9865e86"
      },
      "execution_count": 11,
      "outputs": [
        {
          "output_type": "stream",
          "name": "stdout",
          "text": [
            "[INFO] 2022-08-28 04:06:03.055894\n",
            "[INFO]\n"
          ]
        }
      ]
    },
    {
      "cell_type": "markdown",
      "source": [
        "## elapsed_time"
      ],
      "metadata": {
        "id": "q_rJX7kAIboD"
      }
    },
    {
      "cell_type": "code",
      "source": [
        "from function_burger import bottom_log\n",
        "\n",
        "@bottom_log(elapsed_time=True)\n",
        "def example():\n",
        "    pass\n",
        "\n",
        "example()"
      ],
      "metadata": {
        "colab": {
          "base_uri": "https://localhost:8080/"
        },
        "id": "tFnQIkZwIanl",
        "outputId": "f594f3ce-8205-4249-99cb-73a1874ba9c0"
      },
      "execution_count": 12,
      "outputs": [
        {
          "output_type": "stream",
          "name": "stdout",
          "text": [
            "[INFO] 2022-08-28 04:06:03.075228 elapsed time[0:00:00.000009]\n"
          ]
        }
      ]
    },
    {
      "cell_type": "markdown",
      "source": [
        "## fname"
      ],
      "metadata": {
        "id": "J6pI_13iIqVe"
      }
    },
    {
      "cell_type": "code",
      "source": [
        "from function_burger import top_log\n",
        "\n",
        "@top_log(fname=True)\n",
        "def example():\n",
        "    pass\n",
        "\n",
        "example()"
      ],
      "metadata": {
        "colab": {
          "base_uri": "https://localhost:8080/"
        },
        "id": "OcGAx4_KIrtf",
        "outputId": "70d39bdd-2413-4b14-a305-7f72573143e8"
      },
      "execution_count": 13,
      "outputs": [
        {
          "output_type": "stream",
          "name": "stdout",
          "text": [
            "[INFO] 2022-08-28 04:06:03.092140 func[example]\n"
          ]
        }
      ]
    },
    {
      "cell_type": "markdown",
      "source": [
        "## tid"
      ],
      "metadata": {
        "id": "GBBz1Q3ZIwxK"
      }
    },
    {
      "cell_type": "code",
      "source": [
        "from function_burger import top_log\n",
        "import threading as th\n",
        "\n",
        "@top_log(tid=True)\n",
        "def example():\n",
        "    pass\n",
        "\n",
        "example()\n",
        "\n",
        "t = th.Thread(target=example)\n",
        "t.start()"
      ],
      "metadata": {
        "colab": {
          "base_uri": "https://localhost:8080/"
        },
        "id": "6RW40f2LIygX",
        "outputId": "654c1711-c16d-47b3-afb7-0e7b50848f87"
      },
      "execution_count": 14,
      "outputs": [
        {
          "output_type": "stream",
          "name": "stdout",
          "text": [
            "[INFO] 2022-08-28 04:06:03.107677 [140045744105344]\n",
            "[INFO] 2022-08-28 04:06:03.114829 [140045372159744]\n"
          ]
        }
      ]
    },
    {
      "cell_type": "markdown",
      "source": [
        "## inputval"
      ],
      "metadata": {
        "id": "VWOQoG44Jgcz"
      }
    },
    {
      "cell_type": "code",
      "source": [
        "from function_burger import burger_log\n",
        "\n",
        "@burger_log(inputval=True)\n",
        "def example(a: int, b: int, *, c: int, d: int):\n",
        "    pass\n",
        "\n",
        "example(1, 2, c=3, d=4)"
      ],
      "metadata": {
        "colab": {
          "base_uri": "https://localhost:8080/"
        },
        "id": "FkoKKOFeJhte",
        "outputId": "19f8dabb-7b94-448d-d1c0-c0cc7523c1bd"
      },
      "execution_count": 15,
      "outputs": [
        {
          "output_type": "stream",
          "name": "stdout",
          "text": [
            "[INFO] 2022-08-28 04:06:03.129391 args[(1, 2)] keywords[{'c': 3, 'd': 4}]\n",
            "[INFO] 2022-08-28 04:06:03.130207\n"
          ]
        }
      ]
    },
    {
      "cell_type": "markdown",
      "source": [
        "## inputval_func"
      ],
      "metadata": {
        "id": "J-OMhnafJyuM"
      }
    },
    {
      "cell_type": "code",
      "source": [
        "from function_burger import burger_log\n",
        "\n",
        "class ExampleCls:\n",
        "    def __init__(self):\n",
        "        self.num = 0\n",
        "    def inc_num(self):\n",
        "        self.num += 1\n",
        "    def get_num(self):\n",
        "        return self.num\n",
        "\n",
        "@burger_log(\n",
        "    inputval=True, inputval_func=lambda *a, **k: f\"num[{a[0].get_num()}]\"\n",
        ")\n",
        "def increment_num(cls):\n",
        "    cls.inc_num()\n",
        "\n",
        "cls = ExampleCls()\n",
        "cls.inc_num()\n",
        "cls.inc_num()\n",
        "\n",
        "increment_num(cls)"
      ],
      "metadata": {
        "colab": {
          "base_uri": "https://localhost:8080/"
        },
        "id": "mzvDulxhJzr9",
        "outputId": "f9e4b562-12ad-41cc-847a-0e6b22a2c8f9"
      },
      "execution_count": 16,
      "outputs": [
        {
          "output_type": "stream",
          "name": "stdout",
          "text": [
            "[INFO] 2022-08-28 04:06:03.147402 args[num[2]]\n",
            "[INFO] 2022-08-28 04:06:03.147879\n"
          ]
        }
      ]
    },
    {
      "cell_type": "markdown",
      "source": [
        "## retval"
      ],
      "metadata": {
        "id": "-c1bDMSiKBDj"
      }
    },
    {
      "cell_type": "code",
      "source": [
        "from function_burger import burger_log\n",
        "\n",
        "@burger_log(retval=True)\n",
        "def example():\n",
        "    return \"ret_val\"\n",
        "\n",
        "ret = example()"
      ],
      "metadata": {
        "colab": {
          "base_uri": "https://localhost:8080/"
        },
        "id": "yxhIn2g8KGQF",
        "outputId": "9608ca39-c5a7-44de-bf05-babfc2022b05"
      },
      "execution_count": 17,
      "outputs": [
        {
          "output_type": "stream",
          "name": "stdout",
          "text": [
            "[INFO] 2022-08-28 04:06:03.163909\n",
            "[INFO] 2022-08-28 04:06:03.164039 ret[ret_val]\n"
          ]
        }
      ]
    },
    {
      "cell_type": "markdown",
      "source": [
        "## retval_func"
      ],
      "metadata": {
        "id": "GEsT1R46KT7Q"
      }
    },
    {
      "cell_type": "code",
      "source": [
        "from function_burger import burger_log\n",
        "\n",
        "class ExampleCls:\n",
        "    def __init__(self):\n",
        "        self.num = 0\n",
        "    def inc_num(self):\n",
        "        self.num += 1\n",
        "    def get_num(self):\n",
        "        return self.num\n",
        "\n",
        "@burger_log(retval=True, retval_func=lambda a: f\"num[{a.get_num()}]\")\n",
        "def get_example():\n",
        "    return ExampleCls()\n",
        "\n",
        "cls = get_example()"
      ],
      "metadata": {
        "colab": {
          "base_uri": "https://localhost:8080/"
        },
        "id": "qscWztIfKTkn",
        "outputId": "f07a8cb6-bfae-4cbe-eb73-ec3540ea0836"
      },
      "execution_count": 18,
      "outputs": [
        {
          "output_type": "stream",
          "name": "stdout",
          "text": [
            "[INFO] 2022-08-28 04:06:03.180465\n",
            "[INFO] 2022-08-28 04:06:03.183900 ret[num[0]]\n"
          ]
        }
      ]
    },
    {
      "cell_type": "markdown",
      "source": [
        "## top_word"
      ],
      "metadata": {
        "id": "KSYgDSR-KaLO"
      }
    },
    {
      "cell_type": "code",
      "source": [
        "from function_burger import burger_log, top_log\n",
        "\n",
        "@burger_log(top_word=\"start\", fname=True)\n",
        "def example1():\n",
        "    pass\n",
        "\n",
        "@top_log(word=\"start\", fname=True)\n",
        "def example2():\n",
        "    pass\n",
        "\n",
        "example1()\n",
        "example2()"
      ],
      "metadata": {
        "colab": {
          "base_uri": "https://localhost:8080/"
        },
        "id": "3wqlwk7jKbGm",
        "outputId": "665c3f73-fcb1-4735-fab7-2fed3355ae83"
      },
      "execution_count": 19,
      "outputs": [
        {
          "output_type": "stream",
          "name": "stdout",
          "text": [
            "[INFO] 2022-08-28 04:06:03.195483 func[example1] start\n",
            "[INFO] 2022-08-28 04:06:03.195639 func[example1]\n",
            "[INFO] 2022-08-28 04:06:03.195762 func[example2] start\n"
          ]
        }
      ]
    },
    {
      "cell_type": "markdown",
      "source": [
        "## bottom_word"
      ],
      "metadata": {
        "id": "GAxxvrorKv3b"
      }
    },
    {
      "cell_type": "code",
      "source": [
        "from function_burger import burger_log, bottom_log\n",
        "\n",
        "@burger_log(bottom_word=\"end\", fname=True)\n",
        "def example1():\n",
        "    pass\n",
        "\n",
        "@bottom_log(word=\"end\", fname=True)\n",
        "def example2():\n",
        "    pass\n",
        "\n",
        "example1()\n",
        "example2()"
      ],
      "metadata": {
        "colab": {
          "base_uri": "https://localhost:8080/"
        },
        "id": "Zq20Q2-7KxuM",
        "outputId": "370d7bc0-cc73-4e14-a8e2-32d2ce7c769e"
      },
      "execution_count": 20,
      "outputs": [
        {
          "output_type": "stream",
          "name": "stdout",
          "text": [
            "[INFO] 2022-08-28 04:06:03.211873 func[example1]\n",
            "[INFO] 2022-08-28 04:06:03.211989 func[example1] end\n",
            "[INFO] 2022-08-28 04:06:03.212097 func[example2] end\n"
          ]
        }
      ]
    },
    {
      "cell_type": "markdown",
      "source": [
        "## color"
      ],
      "metadata": {
        "id": "TZoA8ZRNK4OQ"
      }
    },
    {
      "cell_type": "code",
      "source": [
        "from function_burger import top_log, LogColor\n",
        "\n",
        "@top_log(color=LogColor.VANILLA_SHAKE)\n",
        "def example_vanilla():\n",
        "    pass\n",
        "\n",
        "@top_log(color=LogColor.MUSTARD)\n",
        "def example_mustard():\n",
        "    pass\n",
        "\n",
        "@top_log(color=LogColor.KETCHUP)\n",
        "def example_ketchup():\n",
        "    pass\n",
        "\n",
        "@top_log(color=LogColor.MINT_CHOCOLATE)\n",
        "def example_mint_chocolate():\n",
        "    pass\n",
        "\n",
        "@top_log(color=LogColor.SODA)\n",
        "def example_soda():\n",
        "    pass\n",
        "\n",
        "@top_log(color=LogColor.LETTUCE)\n",
        "def example_lettuce():\n",
        "    pass\n",
        "\n",
        "@top_log(color=LogColor.GRAPE_JUICE)\n",
        "def example_grape_juice():\n",
        "    pass\n",
        "\n",
        "@top_log(color=LogColor.COLA)\n",
        "def example_cola():\n",
        "    pass\n",
        "\n",
        "example_vanilla()\n",
        "example_mustard()\n",
        "example_ketchup()\n",
        "example_mint_chocolate()\n",
        "example_soda()\n",
        "example_lettuce()\n",
        "example_grape_juice()\n",
        "example_cola()"
      ],
      "metadata": {
        "colab": {
          "base_uri": "https://localhost:8080/"
        },
        "id": "rspnVSb1K5Gf",
        "outputId": "56078623-4810-46f2-ce39-98ad6a3c9bcf"
      },
      "execution_count": 21,
      "outputs": [
        {
          "output_type": "stream",
          "name": "stdout",
          "text": [
            "[INFO] 2022-08-28 04:06:03.246974\n",
            "[INFO]\u001b[33m 2022-08-28 04:06:03.248913\u001b[0m\n",
            "[INFO]\u001b[31m 2022-08-28 04:06:03.250084\u001b[0m\n",
            "[INFO]\u001b[36m 2022-08-28 04:06:03.251412\u001b[0m\n",
            "[INFO]\u001b[34m 2022-08-28 04:06:03.253182\u001b[0m\n",
            "[INFO]\u001b[32m 2022-08-28 04:06:03.254128\u001b[0m\n",
            "[INFO]\u001b[35m 2022-08-28 04:06:03.255056\u001b[0m\n",
            "[INFO]\u001b[30m 2022-08-28 04:06:03.255627\u001b[0m\n"
          ]
        }
      ]
    },
    {
      "cell_type": "markdown",
      "source": [
        "# when an exception occurs"
      ],
      "metadata": {
        "id": "h4XYURjqLsHm"
      }
    },
    {
      "cell_type": "code",
      "source": [
        "from function_burger import burger_log\n",
        "\n",
        "@burger_log()\n",
        "def example():\n",
        "    raise Exception(\"An exception occurred.\")\n",
        "\n",
        "example()"
      ],
      "metadata": {
        "colab": {
          "base_uri": "https://localhost:8080/",
          "height": 385
        },
        "id": "yDgTnH44Lt_X",
        "outputId": "0ac7ccf3-cfc0-4d1a-894e-b9f754973e90"
      },
      "execution_count": 22,
      "outputs": [
        {
          "output_type": "stream",
          "name": "stdout",
          "text": [
            "[INFO] 2022-08-28 04:06:03.276023\n",
            "[INFO] 2022-08-28 04:06:03.276134 \u001b[7m\u001b[31mexcept[An exception occurred.]\u001b[0m\n"
          ]
        },
        {
          "output_type": "error",
          "ename": "Exception",
          "evalue": "ignored",
          "traceback": [
            "\u001b[0;31m---------------------------------------------------------------------------\u001b[0m",
            "\u001b[0;31mException\u001b[0m                                 Traceback (most recent call last)",
            "\u001b[0;32m<ipython-input-22-07bf1abb8ff3>\u001b[0m in \u001b[0;36m<module>\u001b[0;34m\u001b[0m\n\u001b[1;32m      5\u001b[0m     \u001b[0;32mraise\u001b[0m \u001b[0mException\u001b[0m\u001b[0;34m(\u001b[0m\u001b[0;34m\"An exception occurred.\"\u001b[0m\u001b[0;34m)\u001b[0m\u001b[0;34m\u001b[0m\u001b[0;34m\u001b[0m\u001b[0m\n\u001b[1;32m      6\u001b[0m \u001b[0;34m\u001b[0m\u001b[0m\n\u001b[0;32m----> 7\u001b[0;31m \u001b[0mexample\u001b[0m\u001b[0;34m(\u001b[0m\u001b[0;34m)\u001b[0m\u001b[0;34m\u001b[0m\u001b[0;34m\u001b[0m\u001b[0m\n\u001b[0m",
            "\u001b[0;32m/usr/local/lib/python3.7/dist-packages/function_burger/function_burger.py\u001b[0m in \u001b[0;36m_wrapper\u001b[0;34m(*args, **keywords)\u001b[0m\n\u001b[1;32m     79\u001b[0m             \u001b[0;32mexcept\u001b[0m \u001b[0mException\u001b[0m \u001b[0;32mas\u001b[0m \u001b[0me\u001b[0m\u001b[0;34m:\u001b[0m\u001b[0;34m\u001b[0m\u001b[0;34m\u001b[0m\u001b[0m\n\u001b[1;32m     80\u001b[0m                 \u001b[0mbk_e\u001b[0m \u001b[0;34m=\u001b[0m \u001b[0me\u001b[0m\u001b[0;34m\u001b[0m\u001b[0;34m\u001b[0m\u001b[0m\n\u001b[0;32m---> 81\u001b[0;31m                 \u001b[0;32mraise\u001b[0m \u001b[0me\u001b[0m\u001b[0;34m\u001b[0m\u001b[0;34m\u001b[0m\u001b[0m\n\u001b[0m\u001b[1;32m     82\u001b[0m             \u001b[0;32mfinally\u001b[0m\u001b[0;34m:\u001b[0m\u001b[0;34m\u001b[0m\u001b[0;34m\u001b[0m\u001b[0m\n\u001b[1;32m     83\u001b[0m                 \u001b[0;32mif\u001b[0m \u001b[0mpos\u001b[0m \u001b[0;34m!=\u001b[0m \u001b[0mLogPosition\u001b[0m\u001b[0;34m.\u001b[0m\u001b[0mTOP\u001b[0m\u001b[0;34m:\u001b[0m\u001b[0;34m\u001b[0m\u001b[0;34m\u001b[0m\u001b[0m\n",
            "\u001b[0;32m/usr/local/lib/python3.7/dist-packages/function_burger/function_burger.py\u001b[0m in \u001b[0;36m_wrapper\u001b[0;34m(*args, **keywords)\u001b[0m\n\u001b[1;32m     76\u001b[0m             \u001b[0mbk_e\u001b[0m \u001b[0;34m=\u001b[0m \u001b[0;32mNone\u001b[0m\u001b[0;34m\u001b[0m\u001b[0;34m\u001b[0m\u001b[0m\n\u001b[1;32m     77\u001b[0m             \u001b[0;32mtry\u001b[0m\u001b[0;34m:\u001b[0m\u001b[0;34m\u001b[0m\u001b[0;34m\u001b[0m\u001b[0m\n\u001b[0;32m---> 78\u001b[0;31m                 \u001b[0mret\u001b[0m \u001b[0;34m=\u001b[0m \u001b[0mf\u001b[0m\u001b[0;34m(\u001b[0m\u001b[0;34m*\u001b[0m\u001b[0margs\u001b[0m\u001b[0;34m,\u001b[0m \u001b[0;34m**\u001b[0m\u001b[0mkeywords\u001b[0m\u001b[0;34m)\u001b[0m\u001b[0;34m\u001b[0m\u001b[0;34m\u001b[0m\u001b[0m\n\u001b[0m\u001b[1;32m     79\u001b[0m             \u001b[0;32mexcept\u001b[0m \u001b[0mException\u001b[0m \u001b[0;32mas\u001b[0m \u001b[0me\u001b[0m\u001b[0;34m:\u001b[0m\u001b[0;34m\u001b[0m\u001b[0;34m\u001b[0m\u001b[0m\n\u001b[1;32m     80\u001b[0m                 \u001b[0mbk_e\u001b[0m \u001b[0;34m=\u001b[0m \u001b[0me\u001b[0m\u001b[0;34m\u001b[0m\u001b[0;34m\u001b[0m\u001b[0m\n",
            "\u001b[0;32m<ipython-input-22-07bf1abb8ff3>\u001b[0m in \u001b[0;36mexample\u001b[0;34m()\u001b[0m\n\u001b[1;32m      3\u001b[0m \u001b[0;34m@\u001b[0m\u001b[0mburger_log\u001b[0m\u001b[0;34m(\u001b[0m\u001b[0;34m)\u001b[0m\u001b[0;34m\u001b[0m\u001b[0;34m\u001b[0m\u001b[0m\n\u001b[1;32m      4\u001b[0m \u001b[0;32mdef\u001b[0m \u001b[0mexample\u001b[0m\u001b[0;34m(\u001b[0m\u001b[0;34m)\u001b[0m\u001b[0;34m:\u001b[0m\u001b[0;34m\u001b[0m\u001b[0;34m\u001b[0m\u001b[0m\n\u001b[0;32m----> 5\u001b[0;31m     \u001b[0;32mraise\u001b[0m \u001b[0mException\u001b[0m\u001b[0;34m(\u001b[0m\u001b[0;34m\"An exception occurred.\"\u001b[0m\u001b[0;34m)\u001b[0m\u001b[0;34m\u001b[0m\u001b[0;34m\u001b[0m\u001b[0m\n\u001b[0m\u001b[1;32m      6\u001b[0m \u001b[0;34m\u001b[0m\u001b[0m\n\u001b[1;32m      7\u001b[0m \u001b[0mexample\u001b[0m\u001b[0;34m(\u001b[0m\u001b[0;34m)\u001b[0m\u001b[0;34m\u001b[0m\u001b[0;34m\u001b[0m\u001b[0m\n",
            "\u001b[0;31mException\u001b[0m: An exception occurred."
          ]
        }
      ]
    }
  ]
}