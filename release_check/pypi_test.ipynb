{
  "nbformat": 4,
  "nbformat_minor": 0,
  "metadata": {
    "colab": {
      "name": "pypi_test.ipynb",
      "provenance": [],
      "authorship_tag": "ABX9TyOWchTyk+1gva/hMHOywiqa",
      "include_colab_link": true
    },
    "kernelspec": {
      "name": "python3",
      "display_name": "Python 3"
    },
    "language_info": {
      "name": "python"
    }
  },
  "cells": [
    {
      "cell_type": "markdown",
      "metadata": {
        "id": "view-in-github",
        "colab_type": "text"
      },
      "source": [
        "<a href=\"https://colab.research.google.com/github/MamedenQ/function-burger/blob/master/release_check/pypi_test.ipynb\" target=\"_parent\"><img src=\"https://colab.research.google.com/assets/colab-badge.svg\" alt=\"Open In Colab\"/></a>"
      ]
    },
    {
      "cell_type": "markdown",
      "source": [
        "# テスト環境アップロード後の動作確認"
      ],
      "metadata": {
        "id": "fv4MvNZ8Yo35"
      }
    },
    {
      "cell_type": "code",
      "source": [
        "!pip install --index-url https://test.pypi.org/simple/ function-burger==1.0.0"
      ],
      "metadata": {
        "colab": {
          "base_uri": "https://localhost:8080/"
        },
        "id": "_Yza39KBYwWO",
        "outputId": "d453a9c1-c98e-4904-f428-421245489661"
      },
      "execution_count": 1,
      "outputs": [
        {
          "output_type": "stream",
          "name": "stdout",
          "text": [
            "Looking in indexes: https://test.pypi.org/simple/, https://us-python.pkg.dev/colab-wheels/public/simple/\n",
            "Collecting function-burger==1.0.0\n",
            "  Downloading https://test-files.pythonhosted.org/packages/6e/f1/fa22a28d6b6440f65739a0066c4b79ef2ed5a846814d08dac3fdcc7665bd/function_burger-1.0.0-py3-none-any.whl (6.1 kB)\n",
            "Installing collected packages: function-burger\n",
            "Successfully installed function-burger-1.0.0\n"
          ]
        }
      ]
    },
    {
      "cell_type": "code",
      "execution_count": 2,
      "metadata": {
        "colab": {
          "base_uri": "https://localhost:8080/"
        },
        "id": "u6WeU0tJYnCY",
        "outputId": "0e08d697-adf7-4775-8957-db725b7fe1ae"
      },
      "outputs": [
        {
          "output_type": "stream",
          "name": "stdout",
          "text": [
            "[INFO] 2022-08-28 02:59:27.443949\n",
            "input_str[example!!]\n",
            "[INFO] 2022-08-28 02:59:27.445626\n"
          ]
        }
      ],
      "source": [
        "from function_burger import burger_log\n",
        "\n",
        "@burger_log()\n",
        "def example_func(input_str):\n",
        "    print(f\"input_str[{input_str}]\")\n",
        "\n",
        "example_func(\"example!!\")"
      ]
    }
  ]
}